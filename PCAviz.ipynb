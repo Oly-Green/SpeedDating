{
 "cells": [
  {
   "cell_type": "code",
   "execution_count": 1,
   "id": "a6eda0d5-b056-4728-aa1b-c20e879f0744",
   "metadata": {},
   "outputs": [
    {
     "name": "stderr",
     "output_type": "stream",
     "text": [
      "C:\\Users\\olive\\AppData\\Roaming\\Python\\Python38\\site-packages\\scipy\\__init__.py:146: UserWarning: A NumPy version >=1.16.5 and <1.23.0 is required for this version of SciPy (detected version 1.24.4\n",
      "  warnings.warn(f\"A NumPy version >={np_minversion} and <{np_maxversion}\"\n"
     ]
    }
   ],
   "source": [
    "import pandas as pd\n",
    "from sklearn.preprocessing import StandardScaler\n",
    "import seaborn as sns\n",
    "import matplotlib.pyplot as plt\n",
    "from tqdm import tqdm\n",
    "from sklearn.decomposition import PCA"
   ]
  },
  {
   "cell_type": "code",
   "execution_count": 2,
   "outputs": [
    {
     "data": {
      "text/plain": "   Unnamed: 0 has_null  wave     gender   age  age_o  d_age   d_d_age  \\\n0           0     b'0'   1.0  b'female'  21.0   27.0    6.0  b'[4-6]'   \n1           1     b'0'   1.0  b'female'  21.0   22.0    1.0  b'[0-1]'   \n2           2     b'1'   1.0  b'female'  21.0   22.0    1.0  b'[0-1]'   \n3           3     b'0'   1.0  b'female'  21.0   23.0    2.0  b'[2-3]'   \n4           4     b'0'   1.0  b'female'  21.0   24.0    3.0  b'[2-3]'   \n\n                                       race  \\\n0  b'Asian/Pacific Islander/Asian-American'   \n1  b'Asian/Pacific Islander/Asian-American'   \n2  b'Asian/Pacific Islander/Asian-American'   \n3  b'Asian/Pacific Islander/Asian-American'   \n4  b'Asian/Pacific Islander/Asian-American'   \n\n                                     race_o  ...  \\\n0            b'European/Caucasian-American'  ...   \n1            b'European/Caucasian-American'  ...   \n2  b'Asian/Pacific Islander/Asian-American'  ...   \n3            b'European/Caucasian-American'  ...   \n4               b'Latino/Hispanic American'  ...   \n\n  d_expected_num_interested_in_me  d_expected_num_matches  like  \\\n0                        b'[0-3]'                b'[3-5]'   7.0   \n1                        b'[0-3]'                b'[3-5]'   7.0   \n2                        b'[0-3]'                b'[3-5]'   7.0   \n3                        b'[0-3]'                b'[3-5]'   7.0   \n4                        b'[0-3]'                b'[3-5]'   6.0   \n\n  guess_prob_liked    d_like d_guess_prob_liked  met  decision  decision_o  \\\n0              6.0  b'[6-8]'           b'[5-6]'  0.0      b'1'        b'0'   \n1              5.0  b'[6-8]'           b'[5-6]'  1.0      b'1'        b'0'   \n2              NaN  b'[6-8]'           b'[0-4]'  1.0      b'1'        b'1'   \n3              6.0  b'[6-8]'           b'[5-6]'  0.0      b'1'        b'1'   \n4              6.0  b'[6-8]'           b'[5-6]'  0.0      b'1'        b'1'   \n\n   match  \n0   b'0'  \n1   b'0'  \n2   b'1'  \n3   b'1'  \n4   b'1'  \n\n[5 rows x 124 columns]",
      "text/html": "<div>\n<style scoped>\n    .dataframe tbody tr th:only-of-type {\n        vertical-align: middle;\n    }\n\n    .dataframe tbody tr th {\n        vertical-align: top;\n    }\n\n    .dataframe thead th {\n        text-align: right;\n    }\n</style>\n<table border=\"1\" class=\"dataframe\">\n  <thead>\n    <tr style=\"text-align: right;\">\n      <th></th>\n      <th>Unnamed: 0</th>\n      <th>has_null</th>\n      <th>wave</th>\n      <th>gender</th>\n      <th>age</th>\n      <th>age_o</th>\n      <th>d_age</th>\n      <th>d_d_age</th>\n      <th>race</th>\n      <th>race_o</th>\n      <th>...</th>\n      <th>d_expected_num_interested_in_me</th>\n      <th>d_expected_num_matches</th>\n      <th>like</th>\n      <th>guess_prob_liked</th>\n      <th>d_like</th>\n      <th>d_guess_prob_liked</th>\n      <th>met</th>\n      <th>decision</th>\n      <th>decision_o</th>\n      <th>match</th>\n    </tr>\n  </thead>\n  <tbody>\n    <tr>\n      <th>0</th>\n      <td>0</td>\n      <td>b'0'</td>\n      <td>1.0</td>\n      <td>b'female'</td>\n      <td>21.0</td>\n      <td>27.0</td>\n      <td>6.0</td>\n      <td>b'[4-6]'</td>\n      <td>b'Asian/Pacific Islander/Asian-American'</td>\n      <td>b'European/Caucasian-American'</td>\n      <td>...</td>\n      <td>b'[0-3]'</td>\n      <td>b'[3-5]'</td>\n      <td>7.0</td>\n      <td>6.0</td>\n      <td>b'[6-8]'</td>\n      <td>b'[5-6]'</td>\n      <td>0.0</td>\n      <td>b'1'</td>\n      <td>b'0'</td>\n      <td>b'0'</td>\n    </tr>\n    <tr>\n      <th>1</th>\n      <td>1</td>\n      <td>b'0'</td>\n      <td>1.0</td>\n      <td>b'female'</td>\n      <td>21.0</td>\n      <td>22.0</td>\n      <td>1.0</td>\n      <td>b'[0-1]'</td>\n      <td>b'Asian/Pacific Islander/Asian-American'</td>\n      <td>b'European/Caucasian-American'</td>\n      <td>...</td>\n      <td>b'[0-3]'</td>\n      <td>b'[3-5]'</td>\n      <td>7.0</td>\n      <td>5.0</td>\n      <td>b'[6-8]'</td>\n      <td>b'[5-6]'</td>\n      <td>1.0</td>\n      <td>b'1'</td>\n      <td>b'0'</td>\n      <td>b'0'</td>\n    </tr>\n    <tr>\n      <th>2</th>\n      <td>2</td>\n      <td>b'1'</td>\n      <td>1.0</td>\n      <td>b'female'</td>\n      <td>21.0</td>\n      <td>22.0</td>\n      <td>1.0</td>\n      <td>b'[0-1]'</td>\n      <td>b'Asian/Pacific Islander/Asian-American'</td>\n      <td>b'Asian/Pacific Islander/Asian-American'</td>\n      <td>...</td>\n      <td>b'[0-3]'</td>\n      <td>b'[3-5]'</td>\n      <td>7.0</td>\n      <td>NaN</td>\n      <td>b'[6-8]'</td>\n      <td>b'[0-4]'</td>\n      <td>1.0</td>\n      <td>b'1'</td>\n      <td>b'1'</td>\n      <td>b'1'</td>\n    </tr>\n    <tr>\n      <th>3</th>\n      <td>3</td>\n      <td>b'0'</td>\n      <td>1.0</td>\n      <td>b'female'</td>\n      <td>21.0</td>\n      <td>23.0</td>\n      <td>2.0</td>\n      <td>b'[2-3]'</td>\n      <td>b'Asian/Pacific Islander/Asian-American'</td>\n      <td>b'European/Caucasian-American'</td>\n      <td>...</td>\n      <td>b'[0-3]'</td>\n      <td>b'[3-5]'</td>\n      <td>7.0</td>\n      <td>6.0</td>\n      <td>b'[6-8]'</td>\n      <td>b'[5-6]'</td>\n      <td>0.0</td>\n      <td>b'1'</td>\n      <td>b'1'</td>\n      <td>b'1'</td>\n    </tr>\n    <tr>\n      <th>4</th>\n      <td>4</td>\n      <td>b'0'</td>\n      <td>1.0</td>\n      <td>b'female'</td>\n      <td>21.0</td>\n      <td>24.0</td>\n      <td>3.0</td>\n      <td>b'[2-3]'</td>\n      <td>b'Asian/Pacific Islander/Asian-American'</td>\n      <td>b'Latino/Hispanic American'</td>\n      <td>...</td>\n      <td>b'[0-3]'</td>\n      <td>b'[3-5]'</td>\n      <td>6.0</td>\n      <td>6.0</td>\n      <td>b'[6-8]'</td>\n      <td>b'[5-6]'</td>\n      <td>0.0</td>\n      <td>b'1'</td>\n      <td>b'1'</td>\n      <td>b'1'</td>\n    </tr>\n  </tbody>\n</table>\n<p>5 rows × 124 columns</p>\n</div>"
     },
     "execution_count": 2,
     "metadata": {},
     "output_type": "execute_result"
    }
   ],
   "source": [
    "df = pd.read_csv(\"speeddating.csv\")\n",
    "df.head()"
   ],
   "metadata": {
    "collapsed": false,
    "pycharm": {
     "name": "#%%\n"
    }
   }
  }
 ],
 "metadata": {
  "kernelspec": {
   "display_name": "Python 3 (ipykernel)",
   "language": "python",
   "name": "python3"
  },
  "language_info": {
   "codemirror_mode": {
    "name": "ipython",
    "version": 3
   },
   "file_extension": ".py",
   "mimetype": "text/x-python",
   "name": "python",
   "nbconvert_exporter": "python",
   "pygments_lexer": "ipython3",
   "version": "3.8.18"
  }
 },
 "nbformat": 4,
 "nbformat_minor": 5
}